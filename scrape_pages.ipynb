{
 "cells": [
  {
   "cell_type": "markdown",
   "metadata": {},
   "source": [
    "# Scrape OSHA documents\n",
    "\n",
    "Create functions that can successfully download and store new updates to OSHA regulations. The actual documents will come from [govinfo](https://www.govinfo.gov/app/collection/cfr)."
   ]
  },
  {
   "cell_type": "code",
   "execution_count": 31,
   "metadata": {},
   "outputs": [
    {
     "name": "stdout",
     "output_type": "stream",
     "text": [
      "Collecting python-dotenv\n",
      "  Downloading python_dotenv-1.1.0-py3-none-any.whl.metadata (24 kB)\n",
      "Downloading python_dotenv-1.1.0-py3-none-any.whl (20 kB)\n",
      "Installing collected packages: python-dotenv\n",
      "Successfully installed python-dotenv-1.1.0\n",
      "\n",
      "\u001b[1m[\u001b[0m\u001b[34;49mnotice\u001b[0m\u001b[1;39;49m]\u001b[0m\u001b[39;49m A new release of pip is available: \u001b[0m\u001b[31;49m24.2\u001b[0m\u001b[39;49m -> \u001b[0m\u001b[32;49m25.1.1\u001b[0m\n",
      "\u001b[1m[\u001b[0m\u001b[34;49mnotice\u001b[0m\u001b[1;39;49m]\u001b[0m\u001b[39;49m To update, run: \u001b[0m\u001b[32;49mpython3 -m pip install --upgrade pip\u001b[0m\n",
      "Note: you may need to restart the kernel to use updated packages.\n"
     ]
    }
   ],
   "source": [
    "%pip install python-dotenv"
   ]
  },
  {
   "cell_type": "code",
   "execution_count": 51,
   "metadata": {},
   "outputs": [],
   "source": [
    "import os, json, requests\n",
    "from pathlib import Path \n",
    "from urllib.parse import urljoin\n",
    "from tqdm import tqdm\n",
    "import pprint\n",
    "from dotenv import load_dotenv\n",
    "import re\n",
    "import xml.etree.ElementTree as et"
   ]
  },
  {
   "cell_type": "code",
   "execution_count": null,
   "metadata": {},
   "outputs": [],
   "source": [
    "def download_osha_regulations(year=2024):\n",
    "    \"\"\"\n",
    "    This function automatically downloads the relevant OSHA regulations from the data.gov API.\n",
    "\n",
    "    Inputs:\n",
    "        - year: what year you would like.\n",
    "            - the regulations get updated on July 1st of every year so that is why the default is 2024 for now.\n",
    "    \n",
    "    \"\"\"\n",
    "    load_dotenv()\n",
    "    # get api key from api.data.gov (no sign up necessary)\n",
    "    API_KEY = os.getenv(\"GOV_API\")\n",
    "    if not API_KEY:\n",
    "        raise RuntimeError(\"Set the GOV_API environment variable\")\n",
    "\n",
    "    DEST_DIR = f'title29_{year}'\n",
    "\n",
    "    base_package = f'CFR-{year}-title29-'\n",
    "    packages = ['vol5', 'vol6', 'vol7', 'vol8']\n",
    "\n",
    "    xml_links = []\n",
    "\n",
    "    for package in packages:\n",
    "        full_package = base_package + package\n",
    "        BASE = f\"https://api.govinfo.gov/packages/{full_package}\"\n",
    "        coll = requests.get(f\"{BASE}/summary?api_key={API_KEY}\").json()\n",
    "        download_link = coll['download']['xmlLink']\n",
    "        xml_links.append(download_link)\n",
    "\n",
    "    for url in xml_links:\n",
    "        full_url = f\"{url}?api_key={API_KEY}\"\n",
    "        fname = Path(url.rstrip(\"/\")).parts[-2] + '.xml'\n",
    "\n",
    "        out = DEST_DIR + '/' + fname\n",
    "\n",
    "        with requests.get(full_url, stream=True, timeout=120) as r:\n",
    "            r.raise_for_status()      \n",
    "            with open(out, \"wb\") as fp:\n",
    "                for chunk in r.iter_content(1 << 15): \n",
    "                    fp.write(chunk)\n"
   ]
  },
  {
   "cell_type": "code",
   "execution_count": null,
   "metadata": {},
   "outputs": [],
   "source": [
    "def strip_prtpage(elem):\n",
    "    \"\"\"Remove <PRTPAGE> children in place (they carry only page numbers).\"\"\"\n",
    "    for pr in elem.findall('.//PRTPAGE'):\n",
    "        parent = pr.getparent() if hasattr(pr, 'getparent') else None\n",
    "        if parent is not None:\n",
    "            parent.remove(pr)\n",
    "\n",
    "def clean_inline_text(node):\n",
    "    \"\"\"\n",
    "    Flatten text inside a <P> while respecting <E> elements.\n",
    "    - <E T=\"03\">  : italics  – convert to plain text (or wrap in markers if you like)\n",
    "    - <E T=\"51\">  : superscript\n",
    "    - <E T=\"52\">  : subscript\n",
    "    You can map the style codes however you want.\n",
    "    \"\"\"\n",
    "    parts = []\n",
    "    if node.text:\n",
    "        parts.append(node.text)\n",
    "\n",
    "    for e in node.findall('E'):\n",
    "        style = e.get('T')\n",
    "        txt = e.text or ''\n",
    "        if style == '03':          # italics\n",
    "            parts.append(f\"{txt}\")  \n",
    "        elif style == '51':        # superscript\n",
    "            parts.append(f\"^{txt}\")  \n",
    "        elif style == '52':        # subscript\n",
    "            parts.append(f\"_{txt}\") \n",
    "        else:\n",
    "            parts.append(txt)\n",
    "\n",
    "        if e.tail:\n",
    "            parts.append(e.tail)\n",
    "\n",
    "    raw = ''.join(parts)\n",
    "    return re.sub(r'\\s+', ' ', raw).strip()\n",
    "\n",
    "def parse_section(section):\n",
    "    strip_prtpage(section)                 # toss page markers\n",
    "\n",
    "    sectno = section.findtext('SECTNO', '').strip()\n",
    "    subject = section.findtext('SUBJECT', '').strip()\n",
    "\n",
    "    paragraphs = []\n",
    "    for i,p in enumerate(section.findall('P'), start=1):\n",
    "        base_key = f\"29-CFR-{sectno.split('§')[-1].strip().replace(' ', '-')}\"\n",
    "\n",
    "        record = {\n",
    "            \"key\": f'{base_key}-p{i}',\n",
    "            \"sectno\": sectno,\n",
    "            'subject': subject,\n",
    "            'paragraph_index': i,\n",
    "            'text': clean_inline_text(p)\n",
    "        }\n",
    "\n",
    "        paragraphs.append(record)\n",
    "    \n",
    "    return paragraphs\n"
   ]
  },
  {
   "cell_type": "code",
   "execution_count": null,
   "metadata": {},
   "outputs": [],
   "source": [
    "# new updates happen on July 1st of each year\n",
    "year = 2024\n",
    "records = []\n",
    "files = os.listdir(f'title29_{year}')\n",
    "xml_dir = f'title29_{year}/'\n",
    "\n",
    "# download all the osha regulations \n",
    "download_osha_regulations(year=year)\n",
    "\n",
    "# parse through all the xml files and append them to records\n",
    "for vol in files:\n",
    "    root = et.parse(xml_dir+vol).getroot() \n",
    "    for section in root.findall('.//SECTION'):\n",
    "        records.extend(parse_section(section))\n",
    "\n",
    "# append the records to a jsonl file for long term storage\n",
    "with open(f'osha_regulations_test_{year}.jsonl', 'w', encoding='utf-8') as f:\n",
    "    for rec in records:\n",
    "        json.dump(rec, f, ensure_ascii=False)\n",
    "        f.write('\\n')"
   ]
  }
 ],
 "metadata": {
  "kernelspec": {
   "display_name": "Python 3",
   "language": "python",
   "name": "python3"
  },
  "language_info": {
   "codemirror_mode": {
    "name": "ipython",
    "version": 3
   },
   "file_extension": ".py",
   "mimetype": "text/x-python",
   "name": "python",
   "nbconvert_exporter": "python",
   "pygments_lexer": "ipython3",
   "version": "3.13.0"
  }
 },
 "nbformat": 4,
 "nbformat_minor": 2
}
